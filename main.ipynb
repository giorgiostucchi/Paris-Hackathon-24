{
 "cells": [
  {
   "cell_type": "code",
   "execution_count": 1,
   "metadata": {},
   "outputs": [],
   "source": [
    "image_path = \"sample.jpg\"\n",
    "import torch"
   ]
  },
  {
   "cell_type": "code",
   "execution_count": 2,
   "metadata": {},
   "outputs": [
    {
     "name": "stderr",
     "output_type": "stream",
     "text": [
      "/opt/miniconda3/envs/venv/lib/python3.10/site-packages/torch/functional.py:504: UserWarning: torch.meshgrid: in an upcoming release, it will be required to pass the indexing argument. (Triggered internally at /Users/runner/work/pytorch/pytorch/pytorch/aten/src/ATen/native/TensorShape.cpp:3484.)\n",
      "  return _VF.meshgrid(tensors, **kwargs)  # type: ignore[attr-defined]\n"
     ]
    }
   ],
   "source": [
    "import detectron2\n",
    "from detectron2.engine import DefaultPredictor\n",
    "from detectron2.config import get_cfg\n",
    "from detectron2 import model_zoo\n",
    "import cv2\n",
    "import numpy as np\n",
    "\n",
    "# Setup configuration\n",
    "cfg = get_cfg()\n",
    "cfg.merge_from_file(model_zoo.get_config_file(\"COCO-Detection/faster_rcnn_R_50_FPN_3x.yaml\"))\n",
    "cfg.MODEL.ROI_HEADS.SCORE_THRESH_TEST = 0.0001  # Lower threshold\n",
    "cfg.MODEL.RPN.POST_NMS_TOPK_TEST = 2000  # Increase number of proposals post-NMS\n",
    "cfg.MODEL.RPN.PRE_NMS_TOPK_TEST = 2000   # Increase number of proposals pre-NMS\n",
    "cfg.MODEL.ROI_HEADS.BATCH_SIZE_PER_IMAGE = 1024  # Increase batch size per image\n",
    "cfg.MODEL.WEIGHTS = model_zoo.get_checkpoint_url(\"COCO-Detection/faster_rcnn_R_50_FPN_3x.yaml\")\n",
    "cfg.MODEL.DEVICE = \"cuda\" if torch.cuda.is_available() else \"cpu\"\n",
    "\n",
    "# Create predictor\n",
    "predictor = DefaultPredictor(cfg)\n",
    "\n",
    "# Load image\n",
    "image = cv2.imread(image_path)\n",
    "lab = cv2.cvtColor(image, cv2.COLOR_BGR2LAB)\n",
    "l, a, b = cv2.split(lab)\n",
    "clahe = cv2.createCLAHE(clipLimit=3.0, tileGridSize=(8, 8))\n",
    "cl = clahe.apply(l)\n",
    "limg = cv2.merge((cl, a, b))\n",
    "image_contrast = cv2.cvtColor(limg, cv2.COLOR_LAB2BGR)\n",
    "\n",
    "# Resize image\n",
    "image = cv2.resize(image_contrast, (800, 800))\n",
    "\n",
    "# Perform prediction\n",
    "#gray = cv2.cvtColor(image, cv2.COLOR_BGR2GRAY)\n",
    "\n",
    "# Apply histogram equalization\n",
    "#equalized = cv2.equalizeHist(gray)\n",
    "\n",
    "# Convert back to BGR\n",
    "#image_preprocessed = cv2.cvtColor(equalized, cv2.COLOR_GRAY2BGR)\n",
    "#image = image_preprocessed\n",
    "#image = cv2.resize(image, (800, 800))\n",
    "\n",
    "outputs = predictor(image)\n",
    "\n",
    "# Visualize predictions\n",
    "instances = outputs[\"instances\"].to(\"cpu\")\n",
    "boxes = instances.pred_boxes.tensor.numpy()\n",
    "scores = instances.scores.numpy()\n",
    "classes = instances.pred_classes.numpy()\n",
    "\n",
    "indices = cv2.dnn.NMSBoxes(boxes.tolist(), scores.tolist(), score_threshold=0.00001, nms_threshold=0.7)\n",
    "\n",
    "# Draw bounding boxes\n",
    "for i in indices.flatten():\n",
    "    x1, y1, x2, y2 = boxes[i]\n",
    "    if scores[i] < 0.4:  # Adjusted threshold\n",
    "        cv2.rectangle(image, (int(x1), int(y1)), (int(x2), int(y2)), (255, 0, 0), 2)\n",
    "        cv2.putText(image, f\"Score: {scores[i]:.2f}\", (int(x1), int(y1) - 10), cv2.FONT_HERSHEY_SIMPLEX, 0.5, (255, 0, 0), 1)\n",
    "\n",
    "# Save and display the image\n",
    "output_image_path = \"/mnt/data/detected_logos_detectron2.png\"\n",
    "cv2.imwrite(output_image_path, image)\n",
    "cv2.imshow(\"Detected Logos\", image)\n",
    "cv2.waitKey(0)\n",
    "cv2.destroyAllWindows()\n"
   ]
  },
  {
   "cell_type": "code",
   "execution_count": null,
   "metadata": {},
   "outputs": [],
   "source": []
  },
  {
   "cell_type": "code",
   "execution_count": null,
   "metadata": {},
   "outputs": [],
   "source": []
  }
 ],
 "metadata": {
  "kernelspec": {
   "display_name": "Python 3",
   "language": "python",
   "name": "python3"
  },
  "language_info": {
   "codemirror_mode": {
    "name": "ipython",
    "version": 3
   },
   "file_extension": ".py",
   "mimetype": "text/x-python",
   "name": "python",
   "nbconvert_exporter": "python",
   "pygments_lexer": "ipython3",
   "version": "3.10.5"
  }
 },
 "nbformat": 4,
 "nbformat_minor": 2
}
